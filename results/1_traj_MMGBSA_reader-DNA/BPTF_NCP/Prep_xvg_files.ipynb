{
 "cells": [
  {
   "cell_type": "code",
   "execution_count": null,
   "id": "6ec8e06e-6640-4ad4-b8d9-634d6a30bbd5",
   "metadata": {},
   "outputs": [],
   "source": [
    "import re\n",
    "import sys\n",
    "import numpy as np\n",
    "import statistics as stat\n",
    "from pymbar import timeseries\n",
    "from math import sqrt\n",
    "\n",
    "a8_1 = 'E1gbsa.xvg'\n",
    "a8_2 = 'E2gbsa.xvg' \n",
    "a8_3 = 'E3gbsa.xvg'\n",
    "a8_4 = 'E4gbsa.xvg'\n",
    "a8_5 = 'E5gbsa.xvg'\n",
    "\n",
    "def edit_xvg_file(filename):\n",
    "    with open(filename, 'r') as file:\n",
    "        lines = file.readlines()\n",
    "    \n",
    "    with open(filename, 'w') as file:\n",
    "        for line in lines:\n",
    "            # If the line contains non-numeric characters (excluding commas), prefix it with '#'\n",
    "            if re.search(r'[^0-9.,\\-\\s]', line):\n",
    "                file.write(f'#{line}')\n",
    "            else:\n",
    "                file.write(line)\n",
    "    print(filename+' edited')\n",
    "\n",
    "files = [a8_1,a8_2,a8_3,a8_4,a8_5]\n",
    "for i in files:\n",
    "    edit_xvg_file(i)"
   ]
  }
 ],
 "metadata": {
  "kernelspec": {
   "display_name": "Python 3 (ipykernel)",
   "language": "python",
   "name": "python3"
  },
  "language_info": {
   "codemirror_mode": {
    "name": "ipython",
    "version": 3
   },
   "file_extension": ".py",
   "mimetype": "text/x-python",
   "name": "python",
   "nbconvert_exporter": "python",
   "pygments_lexer": "ipython3",
   "version": "3.10.8"
  }
 },
 "nbformat": 4,
 "nbformat_minor": 5
}
