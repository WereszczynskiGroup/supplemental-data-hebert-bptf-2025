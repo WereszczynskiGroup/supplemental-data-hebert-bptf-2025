{
 "cells": [
  {
   "cell_type": "code",
   "execution_count": 1,
   "id": "f173f014-2a60-45c1-955e-942546f5950e",
   "metadata": {},
   "outputs": [
    {
     "name": "stdout",
     "output_type": "stream",
     "text": [
      "Data written to 295_all.dat\n",
      "Data written to 296_all.dat\n",
      "Data written to 297_all.dat\n",
      "Data written to 298_all.dat\n",
      "Data written to 299_all.dat\n",
      "Data written to 300_all.dat\n",
      "Data written to 301_all.dat\n",
      "Data written to 302_all.dat\n",
      "Data written to 303_all.dat\n",
      "Data written to 304_all.dat\n",
      "Data written to 305_all.dat\n",
      "Data written to 306_all.dat\n",
      "Data written to 307_all.dat\n",
      "Data written to 308_all.dat\n",
      "Data written to 309_all.dat\n",
      "Data written to 310_all.dat\n",
      "Data written to 311_all.dat\n",
      "Data written to 312_all.dat\n",
      "Data written to 313_all.dat\n",
      "Data written to 314_all.dat\n",
      "Data written to 315_all.dat\n",
      "Data written to 316_all.dat\n",
      "Data written to 317_all.dat\n",
      "Data written to 318_all.dat\n"
     ]
    }
   ],
   "source": [
    "import numpy as np\n",
    "import os\n",
    "\n",
    "# Function to process a set of files with the same prefix\n",
    "def process_files(prefix, num_files=5, output_file=None):\n",
    "    with open(output_file, 'w') as outfile:\n",
    "        # Loop over the range _1 to _num_files (in this case _1 to _5)\n",
    "        for i in range(1, num_files+1):\n",
    "            filename = f\"{prefix}_{i}.dat\"\n",
    "            if os.path.exists(filename):\n",
    "                # Read the file while skipping comment lines (starting with '#')\n",
    "                file_data = np.genfromtxt(filename, comments='#')\n",
    "                \n",
    "                # Extract the last 7000 rows (or fewer if the file is smaller)\n",
    "                if len(file_data) >= 7000:\n",
    "                    file_data = file_data[-7000:]\n",
    "                else:\n",
    "                    print(f\"File {filename} has less than 7000 rows. Writing all available rows.\")\n",
    "                \n",
    "                # Write data to the output file\n",
    "                np.savetxt(outfile, file_data, fmt='%10.5f')\n",
    "                outfile.write(\"\\n\")  # Add a blank line between file contents\n",
    "            else:\n",
    "                print(f\"File {filename} not found. Skipping.\")\n",
    "\n",
    "# Main function to loop over the range 999 to 1014\n",
    "def main():\n",
    "    for prefix in range(295, 319):  # From 999 to 1014\n",
    "        output_file = f\"{prefix}_all.dat\"\n",
    "        process_files(str(prefix), output_file=output_file)\n",
    "        print(f\"Data written to {output_file}\")\n",
    "\n",
    "if __name__ == \"__main__\":\n",
    "    main()"
   ]
  },
  {
   "cell_type": "code",
   "execution_count": null,
   "id": "89e7667f-2308-4be1-af34-7e99ce9fe937",
   "metadata": {},
   "outputs": [],
   "source": []
  }
 ],
 "metadata": {
  "hide_input": false,
  "kernelspec": {
   "display_name": "Python 3 (ipykernel)",
   "language": "python",
   "name": "python3"
  },
  "language_info": {
   "codemirror_mode": {
    "name": "ipython",
    "version": 3
   },
   "file_extension": ".py",
   "mimetype": "text/x-python",
   "name": "python",
   "nbconvert_exporter": "python",
   "pygments_lexer": "ipython3",
   "version": "3.10.8"
  },
  "toc": {
   "base_numbering": 1,
   "nav_menu": {},
   "number_sections": true,
   "sideBar": true,
   "skip_h1_title": false,
   "title_cell": "Table of Contents",
   "title_sidebar": "Contents",
   "toc_cell": false,
   "toc_position": {},
   "toc_section_display": true,
   "toc_window_display": false
  }
 },
 "nbformat": 4,
 "nbformat_minor": 5
}
