{
 "cells": [
  {
   "cell_type": "code",
   "execution_count": null,
   "id": "6287e870-f27d-4ec7-985d-461644157053",
   "metadata": {},
   "outputs": [],
   "source": [
    "import re\n",
    "import sys\n",
    "import numpy as np\n",
    "import statistics as stat\n",
    "from pymbar import timeseries\n",
    "from math import sqrt\n",
    "\n",
    "M1_1 = './BPTF_NCP/Eh4.1_1.xvg'\n",
    "M1_2 = './BPTF_NCP/Eh4.1_2.xvg'\n",
    "M1_3 = './BPTF_NCP/Eh4.1_3.xvg'\n",
    "M1_4 = './BPTF_NCP/Eh4.1_4.xvg'\n",
    "M1_5 = './BPTF_NCP/Eh4.1_5.xvg'\n",
    "\n",
    "\n",
    "def edit_xvg_file(filename):\n",
    "    with open(filename, 'r') as file:\n",
    "        lines = file.readlines()\n",
    "    \n",
    "    with open(filename, 'w') as file:\n",
    "        for line in lines:\n",
    "            # If the line contains non-numeric characters (excluding commas), prefix it with '#'\n",
    "            if re.search(r'[^0-9.,\\-\\s]', line):\n",
    "                file.write(f'#{line}')\n",
    "            else:\n",
    "                file.write(line)\n",
    "    print(filename+' edited')\n",
    "\n",
    "files = [M1_1,M1_2,M1_3,M1_4,M1_5]\n",
    "for i in files:\n",
    "    edit_xvg_file(i)"
   ]
  },
  {
   "cell_type": "code",
   "execution_count": null,
   "id": "da53ab72-3d60-4f89-917f-fd0b1caf1cd6",
   "metadata": {},
   "outputs": [],
   "source": [
    "M1_1 = './PHD_NCP/EnoBH4.1_1.xvg'\n",
    "M1_2 = './PHD_NCP/EnoBH4.1_2.xvg'\n",
    "M1_3 = './PHD_NCP/EnoBH4.1_3.xvg'\n",
    "M1_4 = './PHD_NCP/EnoBH4.1_4.xvg'\n",
    "M1_5 = './PHD_NCP/EnoBH4.1_5.xvg'\n",
    "\n",
    "\n",
    "def edit_xvg_file(filename):\n",
    "    with open(filename, 'r') as file:\n",
    "        lines = file.readlines()\n",
    "    \n",
    "    with open(filename, 'w') as file:\n",
    "        for line in lines:\n",
    "            # If the line contains non-numeric characters (excluding commas), prefix it with '#'\n",
    "            if re.search(r'[^0-9.,\\-\\s]', line):\n",
    "                file.write(f'#{line}')\n",
    "            else:\n",
    "                file.write(line)\n",
    "    print(filename+' edited')\n",
    "\n",
    "files = [M1_1,M1_2,M1_3,M1_4,M1_5]\n",
    "for i in files:\n",
    "    edit_xvg_file(i)"
   ]
  },
  {
   "cell_type": "code",
   "execution_count": null,
   "id": "453f88a3-460a-4064-9968-14ff48dfb760",
   "metadata": {},
   "outputs": [],
   "source": [
    "M1_1 = './NCP/MH4.1_1.xvg'\n",
    "M1_2 = './NCP/MH4.1_2.xvg'\n",
    "M1_3 = './NCP/MH4.1_3.xvg'\n",
    "M1_4 = './NCP/MH4.1_4.xvg'\n",
    "M1_5 = './NCP/MH4.1_5.xvg'\n",
    "\n",
    "\n",
    "def edit_xvg_file(filename):\n",
    "    with open(filename, 'r') as file:\n",
    "        lines = file.readlines()\n",
    "    \n",
    "    with open(filename, 'w') as file:\n",
    "        for line in lines:\n",
    "            # If the line contains non-numeric characters (excluding commas), prefix it with '#'\n",
    "            if re.search(r'[^0-9.,\\-\\s]', line):\n",
    "                file.write(f'#{line}')\n",
    "            else:\n",
    "                file.write(line)\n",
    "    print(filename+' edited')\n",
    "\n",
    "files = [M1_1,M1_2,M1_3,M1_4,M1_5]\n",
    "for i in files:\n",
    "    edit_xvg_file(i)"
   ]
  }
 ],
 "metadata": {
  "kernelspec": {
   "display_name": "Python 3 (ipykernel)",
   "language": "python",
   "name": "python3"
  },
  "language_info": {
   "codemirror_mode": {
    "name": "ipython",
    "version": 3
   },
   "file_extension": ".py",
   "mimetype": "text/x-python",
   "name": "python",
   "nbconvert_exporter": "python",
   "pygments_lexer": "ipython3",
   "version": "3.10.8"
  }
 },
 "nbformat": 4,
 "nbformat_minor": 5
}
