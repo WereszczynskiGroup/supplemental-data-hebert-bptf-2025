{
 "cells": [
  {
   "cell_type": "code",
   "execution_count": 1,
   "id": "c925ad2e-c8c0-4f21-8149-72dd5fe70cb5",
   "metadata": {},
   "outputs": [
    {
     "name": "stdout",
     "output_type": "stream",
     "text": [
      "Data written to 999_all.dat\n",
      "Data written to 1000_all.dat\n",
      "Data written to 1001_all.dat\n",
      "Data written to 1002_all.dat\n",
      "Data written to 1003_all.dat\n",
      "Data written to 1004_all.dat\n",
      "Data written to 1005_all.dat\n",
      "Data written to 1006_all.dat\n",
      "Data written to 1007_all.dat\n",
      "Data written to 1008_all.dat\n",
      "Data written to 1009_all.dat\n",
      "Data written to 1010_all.dat\n",
      "Data written to 1011_all.dat\n",
      "Data written to 1012_all.dat\n",
      "Data written to 1013_all.dat\n",
      "Data written to 1014_all.dat\n",
      "Data written to 1015_all.dat\n",
      "Data written to 1016_all.dat\n",
      "Data written to 1017_all.dat\n",
      "Data written to 1018_all.dat\n",
      "Data written to 1019_all.dat\n",
      "Data written to 1020_all.dat\n",
      "Data written to 1021_all.dat\n",
      "Data written to 1022_all.dat\n",
      "Data written to 1023_all.dat\n",
      "Data written to 1024_all.dat\n",
      "Data written to 1025_all.dat\n",
      "Data written to 1026_all.dat\n",
      "Data written to 1027_all.dat\n",
      "Data written to 1028_all.dat\n",
      "Data written to 1029_all.dat\n",
      "Data written to 1030_all.dat\n",
      "Data written to 1031_all.dat\n",
      "Data written to 1032_all.dat\n",
      "Data written to 1033_all.dat\n",
      "Data written to 1034_all.dat\n",
      "Data written to 1035_all.dat\n",
      "Data written to 1036_all.dat\n",
      "Data written to 1037_all.dat\n",
      "Data written to 1038_all.dat\n",
      "Data written to 1039_all.dat\n",
      "Data written to 1040_all.dat\n"
     ]
    }
   ],
   "source": [
    "import numpy as np\n",
    "import os\n",
    "\n",
    "# Function to process a set of files with the same prefix\n",
    "def process_files(prefix, num_files=5, output_file=None):\n",
    "    with open(output_file, 'w') as outfile:\n",
    "        # Loop over the range _1 to _num_files (in this case _1 to _5)\n",
    "        for i in range(1, num_files+1):\n",
    "            filename = f\"{prefix}_{i}.dat\"\n",
    "            if os.path.exists(filename):\n",
    "                # Read the file while skipping comment lines (starting with '#')\n",
    "                file_data = np.genfromtxt(filename, comments='#')\n",
    "                \n",
    "                # Extract the last 7000 rows (or fewer if the file is smaller)\n",
    "                if len(file_data) >= 7000:\n",
    "                    file_data = file_data[-7000:]\n",
    "                else:\n",
    "                    print(f\"File {filename} has less than 7000 rows. Writing all available rows.\")\n",
    "                \n",
    "                # Write data to the output file\n",
    "                np.savetxt(outfile, file_data, fmt='%10.5f')\n",
    "                outfile.write(\"\\n\")  # Add a blank line between file contents\n",
    "            else:\n",
    "                print(f\"File {filename} not found. Skipping.\")\n",
    "\n",
    "# Main function to loop over the range 999 to 1014\n",
    "def main():\n",
    "    for prefix in range(999, 1041):  # From 999 to 1014\n",
    "        output_file = f\"{prefix}_all.dat\"\n",
    "        process_files(str(prefix), output_file=output_file)\n",
    "        print(f\"Data written to {output_file}\")\n",
    "\n",
    "if __name__ == \"__main__\":\n",
    "    main()"
   ]
  },
  {
   "cell_type": "code",
   "execution_count": null,
   "id": "bcbfba95-66c7-45c3-acfd-43643ab46133",
   "metadata": {},
   "outputs": [],
   "source": []
  }
 ],
 "metadata": {
  "hide_input": false,
  "kernelspec": {
   "display_name": "Python 3 (ipykernel)",
   "language": "python",
   "name": "python3"
  },
  "language_info": {
   "codemirror_mode": {
    "name": "ipython",
    "version": 3
   },
   "file_extension": ".py",
   "mimetype": "text/x-python",
   "name": "python",
   "nbconvert_exporter": "python",
   "pygments_lexer": "ipython3",
   "version": "3.10.8"
  },
  "toc": {
   "base_numbering": 1,
   "nav_menu": {},
   "number_sections": true,
   "sideBar": true,
   "skip_h1_title": false,
   "title_cell": "Table of Contents",
   "title_sidebar": "Contents",
   "toc_cell": false,
   "toc_position": {},
   "toc_section_display": true,
   "toc_window_display": false
  }
 },
 "nbformat": 4,
 "nbformat_minor": 5
}
