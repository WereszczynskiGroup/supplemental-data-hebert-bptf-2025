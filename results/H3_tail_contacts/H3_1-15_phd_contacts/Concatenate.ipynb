{
 "cells": [
  {
   "cell_type": "code",
   "execution_count": 1,
   "id": "56956b72-813f-4b4a-9928-caa9d24cf407",
   "metadata": {},
   "outputs": [
    {
     "name": "stdout",
     "output_type": "stream",
     "text": [
      "Data written to 63_all.dat\n",
      "Data written to 64_all.dat\n",
      "Data written to 65_all.dat\n",
      "Data written to 66_all.dat\n",
      "Data written to 67_all.dat\n",
      "Data written to 68_all.dat\n",
      "Data written to 69_all.dat\n",
      "Data written to 70_all.dat\n",
      "Data written to 71_all.dat\n",
      "Data written to 72_all.dat\n",
      "Data written to 73_all.dat\n",
      "Data written to 74_all.dat\n",
      "Data written to 75_all.dat\n",
      "Data written to 76_all.dat\n",
      "Data written to 77_all.dat\n"
     ]
    }
   ],
   "source": [
    "import numpy as np\n",
    "import os\n",
    "\n",
    "# Function to process a set of files with the same prefix\n",
    "def process_files(prefix, num_files=5, output_file=None):\n",
    "    with open(output_file, 'w') as outfile:\n",
    "        # Loop over the range _1 to _num_files (in this case _1 to _5)\n",
    "        for i in range(1, num_files+1):\n",
    "            filename = f\"{prefix}_{i}.dat\"\n",
    "            if os.path.exists(filename):\n",
    "                # Read the file while skipping comment lines (starting with '#')\n",
    "                file_data = np.genfromtxt(filename, comments='#')\n",
    "                \n",
    "                # Extract the last 7000 rows (or fewer if the file is smaller)\n",
    "                if len(file_data) >= 7000:\n",
    "                    file_data = file_data[-7000:]\n",
    "                else:\n",
    "                    print(f\"File {filename} has less than 7000 rows. Writing all available rows.\")\n",
    "                \n",
    "                # Write data to the output file\n",
    "                np.savetxt(outfile, file_data, fmt='%10.5f')\n",
    "                outfile.write(\"\\n\")  # Add a blank line between file contents\n",
    "            else:\n",
    "                print(f\"File {filename} not found. Skipping.\")\n",
    "\n",
    "def main():\n",
    "    for prefix in range(63, 78):  # From 171 to 186\n",
    "        output_file = f\"{prefix}_all.dat\"\n",
    "        process_files(str(prefix), output_file=output_file)\n",
    "        print(f\"Data written to {output_file}\")\n",
    "\n",
    "if __name__ == \"__main__\":\n",
    "    main()"
   ]
  },
  {
   "cell_type": "code",
   "execution_count": null,
   "id": "110bc797-25a9-4dd4-9318-57845cc9353e",
   "metadata": {},
   "outputs": [],
   "source": []
  }
 ],
 "metadata": {
  "kernelspec": {
   "display_name": "Python 3 (ipykernel)",
   "language": "python",
   "name": "python3"
  },
  "language_info": {
   "codemirror_mode": {
    "name": "ipython",
    "version": 3
   },
   "file_extension": ".py",
   "mimetype": "text/x-python",
   "name": "python",
   "nbconvert_exporter": "python",
   "pygments_lexer": "ipython3",
   "version": "3.10.8"
  }
 },
 "nbformat": 4,
 "nbformat_minor": 5
}
