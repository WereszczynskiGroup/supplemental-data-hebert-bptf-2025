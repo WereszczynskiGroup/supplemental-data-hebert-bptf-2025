{
 "cells": [
  {
   "cell_type": "code",
   "execution_count": 1,
   "id": "07a62d29-e4fd-4146-ab7e-e7357f51fedf",
   "metadata": {},
   "outputs": [
    {
     "name": "stdout",
     "output_type": "stream",
     "text": [
      "Data written to 171_all.dat\n",
      "Data written to 172_all.dat\n",
      "Data written to 173_all.dat\n",
      "Data written to 174_all.dat\n",
      "Data written to 175_all.dat\n",
      "Data written to 176_all.dat\n",
      "Data written to 177_all.dat\n",
      "Data written to 178_all.dat\n",
      "Data written to 179_all.dat\n",
      "Data written to 180_all.dat\n",
      "Data written to 181_all.dat\n",
      "Data written to 182_all.dat\n",
      "Data written to 183_all.dat\n",
      "Data written to 184_all.dat\n",
      "Data written to 185_all.dat\n"
     ]
    }
   ],
   "source": [
    "import numpy as np\n",
    "import os\n",
    "\n",
    "# Function to process a set of files with the same prefix\n",
    "def process_files(prefix, num_files=5, output_file=None):\n",
    "    with open(output_file, 'w') as outfile:\n",
    "        # Loop over the range _1 to _num_files (in this case _1 to _5)\n",
    "        for i in range(1, num_files+1):\n",
    "            filename = f\"{prefix}_{i}.dat\"\n",
    "            if os.path.exists(filename):\n",
    "                # Read the file while skipping comment lines (starting with '#')\n",
    "                file_data = np.genfromtxt(filename, comments='#')\n",
    "                \n",
    "                # Extract the last 7000 rows (or fewer if the file is smaller)\n",
    "                if len(file_data) >= 7000:\n",
    "                    file_data = file_data[-7000:]\n",
    "                else:\n",
    "                    print(f\"File {filename} has less than 7000 rows. Writing all available rows.\")\n",
    "                \n",
    "                # Write data to the output file\n",
    "                np.savetxt(outfile, file_data, fmt='%10.5f')\n",
    "                outfile.write(\"\\n\")  # Add a blank line between file contents\n",
    "            else:\n",
    "                print(f\"File {filename} not found. Skipping.\")\n",
    "\n",
    "def main():\n",
    "    for prefix in range(171, 186):  # From 171 to 186\n",
    "        output_file = f\"{prefix}_all.dat\"\n",
    "        process_files(str(prefix), output_file=output_file)\n",
    "        print(f\"Data written to {output_file}\")\n",
    "\n",
    "if __name__ == \"__main__\":\n",
    "    main()"
   ]
  },
  {
   "cell_type": "code",
   "execution_count": null,
   "id": "fe345783-8d48-4993-abd6-496c7d4a40f5",
   "metadata": {},
   "outputs": [],
   "source": []
  }
 ],
 "metadata": {
  "kernelspec": {
   "display_name": "Python 3 (ipykernel)",
   "language": "python",
   "name": "python3"
  },
  "language_info": {
   "codemirror_mode": {
    "name": "ipython",
    "version": 3
   },
   "file_extension": ".py",
   "mimetype": "text/x-python",
   "name": "python",
   "nbconvert_exporter": "python",
   "pygments_lexer": "ipython3",
   "version": "3.10.8"
  }
 },
 "nbformat": 4,
 "nbformat_minor": 5
}
